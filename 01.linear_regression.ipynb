{
 "cells": [
  {
   "cell_type": "markdown",
   "metadata": {},
   "source": [
    "# 선형회귀 (Logistic Regression)\n"
   ]
  },
  {
   "cell_type": "code",
   "execution_count": 10,
   "metadata": {},
   "outputs": [
    {
     "data": {
      "image/png": "[encoded data removed]",
      "text/plain": [
       "<Figure size 432x288 with 1 Axes>"
      ]
     },
     "metadata": {},
     "output_type": "display_data"
    }
   ],
   "source": [
    "import numpy as np\n",
    "import matplotlib.pyplot as plt\n",
    "\n",
    "# 성적\n",
    "scores = [53, 61,72, 84, 89, 92, 97]\n",
    "# 공부한 시간\n",
    "study_times = [1, 2,3, 4, 5, 6, 7]\n",
    "\n",
    "plt.scatter(study_times, scores)\n",
    "plt.show()\n"
   ]
  },
  {
   "cell_type": "markdown",
   "metadata": {},
   "source": [
    "## 최소제곱법 (Least Square Method)\n",
    "\n",
    "한 종류의 독립변수들로부터 변화 직선(1차함수의 예측선)을 구하는 방법\n",
    "\n",
    "```\n",
    "y = a * x + b\n",
    "```\n",
    "위 식에서 기울기 a와 y절편 b를 구하는 것\n",
    "\n",
    "* 기울기 a = sum((x-mean(x)(y-mean(y)) / sum((x-mean(x))**2)\n",
    "* y 절편 b = mean(y) - (mean(x) * a)"
   ]
  },
  {
   "cell_type": "code",
   "execution_count": 16,
   "metadata": {},
   "outputs": [
    {
     "name": "stdout",
     "output_type": "stream",
     "text": [
      "성적의 평균 78.28571428571429\n",
      "공부한 시간의 평균 4.0\n",
      "기울기 a의 분자 211.0\n",
      "기울기 a의 분모 28.0\n",
      "기울기 a  7.535714285714286\n",
      "y 절편 b 48.14285714285715\n"
     ]
    },
    {
     "data": {
      "image/png": "[encoded data removed]",
      "text/plain": [
       "<Figure size 432x288 with 1 Axes>"
      ]
     },
     "metadata": {},
     "output_type": "display_data"
    }
   ],
   "source": [
    "import numpy as np\n",
    "import matplotlib.pyplot as plt\n",
    "\n",
    "# 성적\n",
    "scores = [53, 61,72, 84, 89, 92, 97]\n",
    "# 공부한 시간\n",
    "study_times = [1, 2,3, 4, 5, 6, 7]\n",
    "\n",
    "# 성적의 평균\n",
    "mean_scores = np.mean(scores)\n",
    "print(\"성적의 평균\", mean_scores)\n",
    "\n",
    "# 공부한 시간의 평균\n",
    "mean_study_times = np.mean(study_times)\n",
    "print(\"공부한 시간의 평균\", mean_study_times)\n",
    "\n",
    "# 기울기 a를 구하기 위한 분자\n",
    "dividend = 0\n",
    "for i in range(len(scores)):\n",
    "    dividend += (scores[i]-mean_scores) * (study_times[i]-mean_study_times)\n",
    "\n",
    "print(\"기울기 a의 분자\", dividend)\n",
    "\n",
    "# 기울기 a의 분모\n",
    "divisor = sum([(st -mean_study_times)**2 for st in study_times])\n",
    "    \n",
    "print(\"기울기 a의 분모\", divisor)\n",
    "\n",
    "# 기울기 a\n",
    "a = dividend / divisor\n",
    "print(\"기울기 a \", a)\n",
    "\n",
    "\n",
    "# y 절편 b \n",
    "b = mean_scores - (mean_study_times * a)\n",
    "print(\"y 절편 b\", b)\n",
    "\n",
    "# 성적 예측 값\n",
    "predict_scores = []\n",
    "\n",
    "for st in study_times:\n",
    "    score = a * st + b\n",
    "    predict_scores.append(score)\n",
    "\n",
    "\n",
    "plt.scatter(study_times, scores)\n",
    "plt.plot(study_times, predict_scores, color=\"r\")\n",
    "plt.plot()\n",
    "plt.show()"
   ]
  },
  {
   "cell_type": "markdown",
   "metadata": {},
   "source": [
    "## 평균 제곱근 오차 (Root Mean Squared Error)\n",
    "\n",
    "여러 개의 종속변수들을 가지고 선형회귀(다중 선형회귀)할 경우, 임의의 기울기와 절편을 구한 후 오차를 반복적으로 수정해가며 정확한 선을 그리는 접근법이 필요한데, 이 경우 사용하는 오차 평가 알고리즘이 평균 제곱근 오차\n",
    "\n",
    "* 오차 = 실제값 - 예측값\n",
    "#### 오차의 합 = sum((실제값 - 예측값)**2)\n",
    "#### 평균 제곱 오차(Mean Squared Error, MSE) = 오차의 합/예측값의 개수\n",
    "#### 평균 제곱근 오차(Root Mean Squared Error, RMSE) = sqrt( sum((실제값 - 예측값)**2) / n )"
   ]
  },
  {
   "cell_type": "code",
   "execution_count": 25,
   "metadata": {},
   "outputs": [
    {
     "name": "stdout",
     "output_type": "stream",
     "text": [
      "공부한 시간: [1, 2, 3, 4, 5, 6, 7]\n",
      "성적 예측값: [52, 59, 66, 73, 80, 87, 94]\n",
      "실제 성적:  [53, 61, 72, 84, 89, 92, 97]\n",
      "제곱 오차의 합: 277\n",
      "평균 제곱 오차: 39.57142857142857\n",
      "평균 제곱근 오차(rmse): 6.29058253037257\n"
     ]
    }
   ],
   "source": [
    "import numpy as np\n",
    "import matplotlib.pyplot as plt\n",
    "\n",
    "# 실제 성적\n",
    "scores = [53, 61,72, 84, 89, 92, 97]\n",
    "# 공부한 시간\n",
    "study_times = [1, 2,3, 4, 5, 6, 7]\n",
    "\n",
    "# 임의의 예측 기울기 a와 절편 b 가정\n",
    "a = 7\n",
    "b = 45\n",
    "\n",
    "#예측 함수\n",
    "def predict(std_time):\n",
    "    return a * std_time + b\n",
    "\n",
    "# 각 공부 시간에 대한 성적 예측값\n",
    "predict_scores = [predict(st) for st in study_times]\n",
    "\n",
    "print(\"공부한 시간:\", study_times)\n",
    "print(\"성적 예측값:\", predict_scores)\n",
    "print(\"실제 성적: \", scores)\n",
    "\n",
    "# 평균제곱근오차 함수\n",
    "def rmse(predict_scores, real_scores):\n",
    "    n = len(predict_scores)\n",
    "    sum_squared_error = 0\n",
    "    for i in range(n):\n",
    "        sum_squared_error += (predict_scores[i] - real_scores[i])**2\n",
    "    \n",
    "    print(\"제곱 오차의 합:\", sum_squared_error)\n",
    "    \n",
    "    mean_squared_error = sum_squared_error / n\n",
    "    print(\"평균 제곱 오차:\", mean_squared_error)\n",
    "    \n",
    "    root_mean_squared_error = np.sqrt(mean_squared_error)\n",
    "    print(\"평균 제곱근 오차(rmse):\", root_mean_squared_error)\n",
    "\n",
    "rmse(predict_scores, scores)"
   ]
  },
  {
   "cell_type": "code",
   "execution_count": null,
   "metadata": {},
   "outputs": [],
   "source": []
  }
 ],
 "metadata": {
  "kernelspec": {
   "display_name": "Environment (conda_conda)",
   "language": "python",
   "name": "conda_conda"
  },
  "language_info": {
   "codemirror_mode": {
    "name": "ipython",
    "version": 3
   },
   "file_extension": ".py",
   "mimetype": "text/x-python",
   "name": "python",
   "nbconvert_exporter": "python",
   "pygments_lexer": "ipython3",
   "version": "3.6.5"
  }
 },
 "nbformat": 4,
 "nbformat_minor": 2
}
